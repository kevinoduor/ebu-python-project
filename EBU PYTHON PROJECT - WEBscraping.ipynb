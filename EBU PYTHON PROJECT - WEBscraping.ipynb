{
 "cells": [
  {
   "cell_type": "markdown",
   "id": "bebd42c8",
   "metadata": {},
   "source": [
    "SCRAPING ELECTROMART WEBSITE USING BEAUTIFULSOUP\n"
   ]
  },
  {
   "cell_type": "code",
   "execution_count": 1,
   "id": "9651bd20",
   "metadata": {},
   "outputs": [],
   "source": [
    "import requests \n",
    "from bs4 import BeautifulSoup\n",
    "import pandas as pd"
   ]
  },
  {
   "cell_type": "code",
   "execution_count": 2,
   "id": "7601d18c",
   "metadata": {},
   "outputs": [],
   "source": [
    "# Send an HTTP GET request to the website\n",
    "url = \"https://electromart.co.ke/product-category/computing/laptops/\"\n",
    "response = requests.get(url)"
   ]
  },
  {
   "cell_type": "code",
   "execution_count": 3,
   "id": "4114ab61",
   "metadata": {},
   "outputs": [],
   "source": [
    "#parse HTML content of the page using BeautifulSoup\n",
    "soup = BeautifulSoup(response.text,\"html.parser\")\n",
    "# Find all the products on the page\n",
    "products = soup.find_all(\"li\", class_=\"product\")\n",
    "\n",
    "# Initialize lists to store data\n",
    "product_names = []\n",
    "prices = []\n",
    "reviews = []"
   ]
  },
  {
   "cell_type": "code",
   "execution_count": 4,
   "id": "bff8cedc",
   "metadata": {},
   "outputs": [],
   "source": [
    "# Extract data from each product\n",
    "for product in products:\n",
    "    # Product name\n",
    "    name = product.find(\"h2\", class_=\"woocommerce-loop-product__title\").text.strip()\n",
    "    product_names.append(name)"
   ]
  },
  {
   "cell_type": "code",
   "execution_count": 5,
   "id": "d6f6edac",
   "metadata": {},
   "outputs": [],
   "source": [
    " # Price\n",
    "price = product.find(\"span\", class_=\"price\").text.strip()\n",
    "prices.append(price)"
   ]
  },
  {
   "cell_type": "code",
   "execution_count": 7,
   "id": "274462df",
   "metadata": {},
   "outputs": [
    {
     "ename": "AttributeError",
     "evalue": "'NoneType' object has no attribute 'text'",
     "output_type": "error",
     "traceback": [
      "\u001b[1;31m---------------------------------------------------------------------------\u001b[0m",
      "\u001b[1;31mAttributeError\u001b[0m                            Traceback (most recent call last)",
      "\u001b[1;32m~\\AppData\\Local\\Temp\\ipykernel_16720\\2864071508.py\u001b[0m in \u001b[0;36m<module>\u001b[1;34m\u001b[0m\n\u001b[0;32m      1\u001b[0m \u001b[1;31m# Number of reviews\u001b[0m\u001b[1;33m\u001b[0m\u001b[1;33m\u001b[0m\u001b[0m\n\u001b[1;32m----> 2\u001b[1;33m \u001b[0mreview_count\u001b[0m \u001b[1;33m=\u001b[0m \u001b[0mproduct\u001b[0m\u001b[1;33m.\u001b[0m\u001b[0mfind\u001b[0m\u001b[1;33m(\u001b[0m\u001b[1;34m\"span\"\u001b[0m\u001b[1;33m,\u001b[0m \u001b[0mclass_\u001b[0m\u001b[1;33m=\u001b[0m\u001b[1;34m\"review-count\"\u001b[0m\u001b[1;33m)\u001b[0m\u001b[1;33m.\u001b[0m\u001b[0mtext\u001b[0m\u001b[1;33m.\u001b[0m\u001b[0mstrip\u001b[0m\u001b[1;33m(\u001b[0m\u001b[1;33m)\u001b[0m\u001b[1;33m\u001b[0m\u001b[1;33m\u001b[0m\u001b[0m\n\u001b[0m\u001b[0;32m      3\u001b[0m \u001b[0mreviews\u001b[0m\u001b[1;33m.\u001b[0m\u001b[0mappend\u001b[0m\u001b[1;33m(\u001b[0m\u001b[0mreview_count\u001b[0m\u001b[1;33m)\u001b[0m\u001b[1;33m\u001b[0m\u001b[1;33m\u001b[0m\u001b[0m\n",
      "\u001b[1;31mAttributeError\u001b[0m: 'NoneType' object has no attribute 'text'"
     ]
    }
   ],
   "source": [
    " # Number of reviews\n",
    "review_count = product.find(\"span\", class_=\"review-count\").text.strip()\n",
    "reviews.append(review_count)"
   ]
  },
  {
   "cell_type": "code",
   "execution_count": null,
   "id": "004d65cd",
   "metadata": {},
   "outputs": [],
   "source": [
    "# Create a Pandas DataFrame\n",
    "data = {\n",
    "    \"Product Name\": product_names,\n",
    "    \"Price\": prices,\n",
    "    \"Reviews\": reviews\n",
    "}\n",
    "df = pd.DataFrame(data)\n",
    "\n",
    "# Display the DataFrame\n",
    "print(df.head())"
   ]
  },
  {
   "cell_type": "code",
   "execution_count": null,
   "id": "1fe4fb1b",
   "metadata": {},
   "outputs": [],
   "source": [
    "import matplotlib.pyplot as plt\n",
    "\n",
    "# Convert the \"Reviews\" column to numeric (remove non-numeric characters)\n",
    "df['Reviews'] = df['Reviews'].str.extract('(\\d+)').astype(int)"
   ]
  },
  {
   "cell_type": "code",
   "execution_count": null,
   "id": "4e6a5c27",
   "metadata": {},
   "outputs": [],
   "source": [
    "# Create a bar chart\n",
    "plt.figure(figsize=(10, 6))\n",
    "plt.barh(df['Product Name'], df['Reviews'], color='skyblue')\n",
    "plt.xlabel('Number of Reviews')\n",
    "plt.title('Number of Reviews for Each Product')\n",
    "plt.gca().invert_yaxis()  # Invert the y-axis to show the highest number of reviews at the top\n",
    "plt.show()"
   ]
  }
 ],
 "metadata": {
  "kernelspec": {
   "display_name": "Python 3 (ipykernel)",
   "language": "python",
   "name": "python3"
  },
  "language_info": {
   "codemirror_mode": {
    "name": "ipython",
    "version": 3
   },
   "file_extension": ".py",
   "mimetype": "text/x-python",
   "name": "python",
   "nbconvert_exporter": "python",
   "pygments_lexer": "ipython3",
   "version": "3.9.13"
  }
 },
 "nbformat": 4,
 "nbformat_minor": 5
}
